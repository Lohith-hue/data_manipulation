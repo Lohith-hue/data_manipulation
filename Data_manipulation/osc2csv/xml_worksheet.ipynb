{
 "cells": [
  {
   "cell_type": "code",
   "execution_count": 2,
   "metadata": {},
   "outputs": [],
   "source": [
    "import xml.etree.ElementTree as ET\n",
    "import pandas as pd\n",
    "from pandas.io.json import json_normalize"
   ]
  },
  {
   "cell_type": "code",
   "execution_count": 1,
   "metadata": {},
   "outputs": [
    {
     "ename": "NameError",
     "evalue": "name 'ET' is not defined",
     "output_type": "error",
     "traceback": [
      "\u001b[0;31m---------------------------------------------------------------------------\u001b[0m",
      "\u001b[0;31mNameError\u001b[0m                                 Traceback (most recent call last)",
      "\u001b[0;32m<ipython-input-1-ebf3a2755a5d>\u001b[0m in \u001b[0;36m<module>\u001b[0;34m\u001b[0m\n\u001b[1;32m      7\u001b[0m         \u001b[0;32myield\u001b[0m \u001b[0mdict\u001b[0m\u001b[0;34m\u001b[0m\u001b[0;34m\u001b[0m\u001b[0m\n\u001b[1;32m      8\u001b[0m \u001b[0;34m\u001b[0m\u001b[0m\n\u001b[0;32m----> 9\u001b[0;31m \u001b[0metree\u001b[0m \u001b[0;34m=\u001b[0m \u001b[0mET\u001b[0m\u001b[0;34m.\u001b[0m\u001b[0mparse\u001b[0m\u001b[0;34m(\u001b[0m\u001b[0;34m'/home/lohitd@nextbillion.ai/Downloads/airliftpakistan1467807055522828288.osm'\u001b[0m\u001b[0;34m)\u001b[0m\u001b[0;34m\u001b[0m\u001b[0;34m\u001b[0m\u001b[0m\n\u001b[0m\u001b[1;32m     10\u001b[0m \u001b[0;34m\u001b[0m\u001b[0m\n\u001b[1;32m     11\u001b[0m \u001b[0meroot\u001b[0m \u001b[0;34m=\u001b[0m \u001b[0metree\u001b[0m\u001b[0;34m.\u001b[0m\u001b[0mgetroot\u001b[0m\u001b[0;34m(\u001b[0m\u001b[0;34m)\u001b[0m\u001b[0;34m\u001b[0m\u001b[0;34m\u001b[0m\u001b[0m\n",
      "\u001b[0;31mNameError\u001b[0m: name 'ET' is not defined"
     ]
    }
   ],
   "source": [
    "def transform_xml(xml_doc):\n",
    "    attr = xml_doc.attrib\n",
    "    for xml in xml_doc.findall('.//'):\n",
    "        dict = attr.copy()\n",
    "        dict.update(xml.attrib)\n",
    "\n",
    "        yield dict\n",
    "\n",
    "etree = ET.parse('/home/lohitd@nextbillion.ai/Downloads/airliftpakistan1467807055522828288.osm')\n",
    "\n",
    "eroot = etree.getroot()\n",
    "\n",
    "trans = transform_xml(eroot)\n",
    "\n",
    "df = pd.DataFrame(list(trans))\n",
    "\n",
    "df"
   ]
  },
  {
   "cell_type": "code",
   "execution_count": 9,
   "metadata": {},
   "outputs": [
    {
     "data": {
      "text/plain": [
       "Iyan      21\n",
       "iqnaul    19\n",
       "yuri      19\n",
       "yeni       6\n",
       "efdewi     2\n",
       "Name: user, dtype: int64"
      ]
     },
     "execution_count": 9,
     "metadata": {},
     "output_type": "execute_result"
    }
   ],
   "source": [
    "df['user'].value_counts()"
   ]
  },
  {
   "cell_type": "code",
   "execution_count": 10,
   "metadata": {},
   "outputs": [
    {
     "data": {
      "text/plain": [
       "way    3\n",
       "Name: type, dtype: int64"
      ]
     },
     "execution_count": 10,
     "metadata": {},
     "output_type": "execute_result"
    }
   ],
   "source": [
    "df['type'].value_counts()"
   ]
  },
  {
   "cell_type": "code",
   "execution_count": 20,
   "metadata": {},
   "outputs": [
    {
     "data": {
      "text/plain": [
       "2021-05-04T03:11:55Z    18\n",
       "2019-09-13T13:43:33Z     4\n",
       "2020-11-25T22:25:59Z     3\n",
       "2021-03-18T07:39:06Z     3\n",
       "2020-11-25T22:25:45Z     3\n",
       "2020-11-25T22:25:44Z     3\n",
       "2020-11-18T09:10:34Z     3\n",
       "2020-11-24T09:51:16Z     3\n",
       "2020-11-18T09:10:04Z     2\n",
       "2020-11-25T22:43:45Z     2\n",
       "2019-10-10T06:59:12Z     2\n",
       "2020-11-18T09:10:02Z     2\n",
       "2019-09-13T15:45:49Z     2\n",
       "2020-11-25T05:02:15Z     2\n",
       "2020-11-25T22:26:55Z     1\n",
       "2020-03-19T04:23:30Z     1\n",
       "2020-02-21T02:29:51Z     1\n",
       "2020-11-24T05:53:44Z     1\n",
       "2020-11-24T09:43:38Z     1\n",
       "2020-11-26T01:40:54Z     1\n",
       "2020-11-25T22:34:59Z     1\n",
       "2020-11-25T05:18:46Z     1\n",
       "2020-11-25T22:26:46Z     1\n",
       "2020-11-25T22:25:26Z     1\n",
       "2019-11-04T08:36:12Z     1\n",
       "2020-11-25T05:02:08Z     1\n",
       "2020-03-18T07:21:50Z     1\n",
       "2020-11-05T07:25:26Z     1\n",
       "2018-06-05T02:03:14Z     1\n",
       "2020-11-25T22:28:49Z     1\n",
       "2016-11-01T07:19:32Z     1\n",
       "2020-11-25T05:28:16Z     1\n",
       "2019-08-01T04:13:13Z     1\n",
       "2020-11-25T05:18:45Z     1\n",
       "2020-11-18T09:10:31Z     1\n",
       "2020-11-18T09:11:09Z     1\n",
       "2020-11-25T22:40:43Z     1\n",
       "2020-11-25T22:27:18Z     1\n",
       "2020-11-25T22:40:42Z     1\n",
       "2020-11-24T10:04:30Z     1\n",
       "2020-11-26T02:18:36Z     1\n",
       "2020-11-25T22:26:57Z     1\n",
       "2020-11-25T22:39:47Z     1\n",
       "2020-02-20T04:14:45Z     1\n",
       "2020-11-18T09:10:01Z     1\n",
       "Name: timestamp, dtype: int64"
      ]
     },
     "execution_count": 20,
     "metadata": {},
     "output_type": "execute_result"
    }
   ],
   "source": [
    "df['timestamp'].value_counts()"
   ]
  },
  {
   "cell_type": "code",
   "execution_count": null,
   "metadata": {},
   "outputs": [],
   "source": [
    "df.loc[:,cols] = df.loc[:,cols].ffill()"
   ]
  },
  {
   "cell_type": "code",
   "execution_count": null,
   "metadata": {},
   "outputs": [],
   "source": [
    "delete_tdf = delete_tdf.replace(['tag', 'nd','member','relation'],[None, None,None,None])\n",
    "cols = ['type','id', 'timestamp','uid','user','changeset']\n",
    "delete_tdf.loc[:,cols] = delete_tdf.loc[:,cols].ffill()\n",
    "delete_tdf['Mod_type'] = 'delete'\n",
    "delete_tdf"
   ]
  },
  {
   "cell_type": "code",
   "execution_count": 5,
   "metadata": {},
   "outputs": [
    {
     "ename": "NameError",
     "evalue": "name 'delete_df' is not defined",
     "output_type": "error",
     "traceback": [
      "\u001b[0;31m---------------------------------------------------------------------------\u001b[0m",
      "\u001b[0;31mNameError\u001b[0m                                 Traceback (most recent call last)",
      "\u001b[0;32m<ipython-input-5-5b9a4fafea79>\u001b[0m in \u001b[0;36m<module>\u001b[0;34m\u001b[0m\n\u001b[0;32m----> 1\u001b[0;31m \u001b[0mdelete_df\u001b[0m\u001b[0;34m.\u001b[0m\u001b[0mrename\u001b[0m\u001b[0;34m(\u001b[0m\u001b[0mcolumns\u001b[0m \u001b[0;34m=\u001b[0m \u001b[0;34m{\u001b[0m\u001b[0;34m\"type\"\u001b[0m\u001b[0;34m:\u001b[0m\u001b[0;34m\"member_type\"\u001b[0m\u001b[0;34m}\u001b[0m\u001b[0;34m,\u001b[0m \u001b[0minplace\u001b[0m\u001b[0;34m=\u001b[0m\u001b[0;34m\"True\"\u001b[0m\u001b[0;34m)\u001b[0m\u001b[0;34m\u001b[0m\u001b[0;34m\u001b[0m\u001b[0m\n\u001b[0m\u001b[1;32m      2\u001b[0m \u001b[0;34m\u001b[0m\u001b[0m\n\u001b[1;32m      3\u001b[0m \u001b[0mdelete_df\u001b[0m \u001b[0;34m=\u001b[0m \u001b[0mdelete_df\u001b[0m\u001b[0;34m.\u001b[0m\u001b[0mdrop\u001b[0m\u001b[0;34m(\u001b[0m\u001b[0;34m[\u001b[0m\u001b[0;34m'generator'\u001b[0m\u001b[0;34m,\u001b[0m\u001b[0;34m'lat'\u001b[0m\u001b[0;34m,\u001b[0m\u001b[0;34m'lon'\u001b[0m\u001b[0;34m]\u001b[0m\u001b[0;34m,\u001b[0m \u001b[0maxis\u001b[0m \u001b[0;34m=\u001b[0m \u001b[0;36m1\u001b[0m\u001b[0;34m)\u001b[0m\u001b[0;34m\u001b[0m\u001b[0;34m\u001b[0m\u001b[0m\n",
      "\u001b[0;31mNameError\u001b[0m: name 'delete_df' is not defined"
     ]
    }
   ],
   "source": [
    "delete_df.rename(columns = {\"type\":\"member_type\"}, inplace=\"True\")\n",
    "\n",
    "delete_df = delete_df.drop(['generator','lat','lon'], axis = 1)"
   ]
  },
  {
   "cell_type": "code",
   "execution_count": null,
   "metadata": {},
   "outputs": [],
   "source": [
    "delete_df"
   ]
  },
  {
   "cell_type": "code",
   "execution_count": null,
   "metadata": {},
   "outputs": [],
   "source": [
    "columns = ['type']\n",
    "delete_tag = pd.DataFrame(columns = columns)\n",
    "\n",
    "for child in eroot.findall(\"./delete//\"):\n",
    "    print(child.tag)\n",
    "    delete_tag = delete_tag.append(pd.Series(child.tag , index = columns), ignore_index = True)"
   ]
  },
  {
   "cell_type": "code",
   "execution_count": null,
   "metadata": {},
   "outputs": [],
   "source": [
    "delete_tdf = pd.concat([delete_tag, delete_df], axis=1, join='inner')\n",
    "display(delete_tdf)"
   ]
  },
  {
   "cell_type": "code",
   "execution_count": null,
   "metadata": {},
   "outputs": [],
   "source": [
    "delete_tdf = delete_tdf.replace(['tag', 'nd','member','relation'],[None, None,None,None])\n",
    "cols = ['type','id', 'timestamp','uid','user','changeset']\n",
    "delete_tdf.loc[:,cols] = delete_tdf.loc[:,cols].ffill()\n",
    "delete_tdf['Mod_type'] = 'delete'\n",
    "delete_tdf"
   ]
  },
  {
   "cell_type": "code",
   "execution_count": null,
   "metadata": {},
   "outputs": [],
   "source": [
    "def transform_xml(xml_doc):\n",
    "    attr = xml_doc.attrib\n",
    "    for xml in xml_doc.findall('./create//'):\n",
    "        dict = attr.copy()\n",
    "        dict.update(xml.attrib)\n",
    "\n",
    "        yield dict\n",
    "\n",
    "etree = ET.parse('/home/lohitd@nextbillion.ai/Downloads/14June/jabodiff.osc')\n",
    "\n",
    "eroot = etree.getroot()\n",
    "\n",
    "trans = transform_xml(eroot)\n",
    "\n",
    "create_df = pd.DataFrame(list(trans))\n",
    "\n",
    "create_df"
   ]
  },
  {
   "cell_type": "code",
   "execution_count": null,
   "metadata": {},
   "outputs": [],
   "source": [
    "create_df = create_df.drop(['generator','lat','lon'], axis = 1)"
   ]
  },
  {
   "cell_type": "code",
   "execution_count": null,
   "metadata": {},
   "outputs": [],
   "source": [
    "create_df"
   ]
  },
  {
   "cell_type": "code",
   "execution_count": null,
   "metadata": {},
   "outputs": [],
   "source": [
    "columns = ['type']\n",
    "create_tag = pd.DataFrame(columns = columns)\n",
    "\n",
    "for child in eroot.findall(\"./create//\"):\n",
    "    print(child.tag)\n",
    "    create_tag = create_tag.append(pd.Series(child.tag , index = columns), ignore_index = True)"
   ]
  },
  {
   "cell_type": "code",
   "execution_count": null,
   "metadata": {},
   "outputs": [],
   "source": [
    "create_tdf = pd.concat([create_tag, create_df], axis=1, join='inner')\n",
    "display(create_tdf)"
   ]
  },
  {
   "cell_type": "code",
   "execution_count": null,
   "metadata": {},
   "outputs": [],
   "source": [
    "create_tdf = create_tdf.replace(['tag', 'nd','member','relation'],[None, None,None,None])\n",
    "cols = ['type','id', 'timestamp']\n",
    "create_tdf.loc[:,cols] = create_tdf.loc[:,cols].ffill()\n",
    "create_tdf['Mod_type'] = 'create'\n",
    "create_tdf"
   ]
  },
  {
   "cell_type": "code",
   "execution_count": null,
   "metadata": {},
   "outputs": [],
   "source": [
    "def transform_xml(xml_doc):\n",
    "    attr = xml_doc.attrib\n",
    "    for xml in xml_doc.findall('./modify//'):\n",
    "        dict = attr.copy()\n",
    "        dict.update(xml.attrib)\n",
    "\n",
    "        yield dict\n",
    "\n",
    "etree = ET.parse('/home/lohitd@nextbillion.ai/Downloads/14June/jabodiff.osc')\n",
    "\n",
    "eroot = etree.getroot()\n",
    "\n",
    "trans = transform_xml(eroot)\n",
    "\n",
    "modify_df = pd.DataFrame(list(trans))\n",
    "\n",
    "modify_df"
   ]
  },
  {
   "cell_type": "code",
   "execution_count": null,
   "metadata": {},
   "outputs": [],
   "source": [
    "modify_df = modify_df.drop(['generator','lat','lon'], axis = 1)"
   ]
  },
  {
   "cell_type": "code",
   "execution_count": null,
   "metadata": {},
   "outputs": [],
   "source": [
    "modify_df"
   ]
  },
  {
   "cell_type": "code",
   "execution_count": null,
   "metadata": {},
   "outputs": [],
   "source": [
    "columns = ['type']\n",
    "modify_tag = pd.DataFrame(columns = columns)\n",
    "\n",
    "for child in eroot.findall(\"./modify//\"):\n",
    "    print(child.tag)\n",
    "    modify_tag = modify_tag.append(pd.Series(child.tag , index = columns), ignore_index = True)"
   ]
  },
  {
   "cell_type": "code",
   "execution_count": null,
   "metadata": {},
   "outputs": [],
   "source": [
    "modify_tdf = pd.concat([modify_tag, modify_df], axis=1, join='inner')\n",
    "modify_tdf"
   ]
  },
  {
   "cell_type": "code",
   "execution_count": null,
   "metadata": {},
   "outputs": [],
   "source": [
    "modify_tdf = modify_tdf.replace(['tag', 'nd','member','relation'],[None, None,None,None])\n",
    "cols = ['type','id', 'timestamp','uid','user','changeset']\n",
    "modify_tdf.loc[:,cols] = modify_tdf.loc[:,cols].ffill()\n",
    "modify_tdf['Mod_type'] = 'modify'\n",
    "modify_tdf"
   ]
  },
  {
   "cell_type": "code",
   "execution_count": null,
   "metadata": {},
   "outputs": [],
   "source": [
    "frames = [delete_tdf, create_tdf, modify_tdf]\n",
    "  \n",
    "result = pd.concat(frames)\n",
    "result"
   ]
  },
  {
   "cell_type": "code",
   "execution_count": null,
   "metadata": {},
   "outputs": [],
   "source": [
    "neworder = ['Mod_type','type','id','version','timestamp','uid','user','changeset','k','v']\n",
    "result=result.reindex(columns=neworder)"
   ]
  },
  {
   "cell_type": "code",
   "execution_count": null,
   "metadata": {},
   "outputs": [],
   "source": [
    "result.to_csv('/home/lohitd@nextbillion.ai/Downloads/14June/jabodiffdf.csv', index = False)"
   ]
  }
 ],
 "metadata": {
  "kernelspec": {
   "display_name": "Python 3",
   "language": "python",
   "name": "python3"
  },
  "language_info": {
   "codemirror_mode": {
    "name": "ipython",
    "version": 3
   },
   "file_extension": ".py",
   "mimetype": "text/x-python",
   "name": "python",
   "nbconvert_exporter": "python",
   "pygments_lexer": "ipython3",
   "version": "3.8.8"
  }
 },
 "nbformat": 4,
 "nbformat_minor": 4
}
