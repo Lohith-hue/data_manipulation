{
 "cells": [
  {
   "cell_type": "code",
   "execution_count": null,
   "metadata": {},
   "outputs": [],
   "source": [
    "import xml.etree.ElementTree as ET\n",
    "import pandas as pd\n",
    "from pandas.io.json import json_normalize"
   ]
  },
  {
   "cell_type": "code",
   "execution_count": null,
   "metadata": {},
   "outputs": [],
   "source": [
    "def transform_xml(xml_doc):\n",
    "    attr = xml_doc.attrib\n",
    "    for xml in xml_doc.findall('./delete//'):\n",
    "        dict = attr.copy()\n",
    "        dict.update(xml.attrib)\n",
    "\n",
    "        yield dict\n",
    "\n",
    "etree = ET.parse('/home/lohitd@nextbillion.ai/Downloads/14June/jabodiff.osc')\n",
    "\n",
    "eroot = etree.getroot()\n",
    "\n",
    "trans = transform_xml(eroot)\n",
    "\n",
    "delete_df = pd.DataFrame(list(trans))\n",
    "\n",
    "delete_df"
   ]
  },
  {
   "cell_type": "code",
   "execution_count": null,
   "metadata": {},
   "outputs": [],
   "source": [
    "delete_df.rename(columns = {\"type\":\"member_type\"}, inplace=\"True\")\n",
    "\n",
    "delete_df = delete_df.drop(['generator','lat','lon'], axis = 1)"
   ]
  },
  {
   "cell_type": "code",
   "execution_count": null,
   "metadata": {},
   "outputs": [],
   "source": [
    "delete_df"
   ]
  },
  {
   "cell_type": "code",
   "execution_count": null,
   "metadata": {},
   "outputs": [],
   "source": [
    "columns = ['type']\n",
    "delete_tag = pd.DataFrame(columns = columns)\n",
    "\n",
    "for child in eroot.findall(\"./delete//\"):\n",
    "    print(child.tag)\n",
    "    delete_tag = delete_tag.append(pd.Series(child.tag , index = columns), ignore_index = True)"
   ]
  },
  {
   "cell_type": "code",
   "execution_count": null,
   "metadata": {},
   "outputs": [],
   "source": [
    "delete_tdf = pd.concat([delete_tag, delete_df], axis=1, join='inner')\n",
    "display(delete_tdf)"
   ]
  },
  {
   "cell_type": "code",
   "execution_count": null,
   "metadata": {},
   "outputs": [],
   "source": [
    "delete_tdf = delete_tdf.replace(['tag', 'nd','member','relation'],[None, None,None,None])\n",
    "cols = ['type','id', 'timestamp','uid','user','changeset']\n",
    "delete_tdf.loc[:,cols] = delete_tdf.loc[:,cols].ffill()\n",
    "delete_tdf['Mod_type'] = 'delete'\n",
    "delete_tdf"
   ]
  },
  {
   "cell_type": "code",
   "execution_count": null,
   "metadata": {},
   "outputs": [],
   "source": []
  },
  {
   "cell_type": "code",
   "execution_count": null,
   "metadata": {},
   "outputs": [],
   "source": [
    "def transform_xml(xml_doc):\n",
    "    attr = xml_doc.attrib\n",
    "    for xml in xml_doc.findall('./create//'):\n",
    "        dict = attr.copy()\n",
    "        dict.update(xml.attrib)\n",
    "\n",
    "        yield dict\n",
    "\n",
    "etree = ET.parse('/home/lohitd@nextbillion.ai/Downloads/14June/jabodiff.osc')\n",
    "\n",
    "eroot = etree.getroot()\n",
    "\n",
    "trans = transform_xml(eroot)\n",
    "\n",
    "create_df = pd.DataFrame(list(trans))\n",
    "\n",
    "create_df"
   ]
  },
  {
   "cell_type": "code",
   "execution_count": null,
   "metadata": {},
   "outputs": [],
   "source": [
    "create_df = create_df.drop(['generator','lat','lon'], axis = 1)"
   ]
  },
  {
   "cell_type": "code",
   "execution_count": null,
   "metadata": {},
   "outputs": [],
   "source": [
    "create_df"
   ]
  },
  {
   "cell_type": "code",
   "execution_count": null,
   "metadata": {},
   "outputs": [],
   "source": [
    "columns = ['type']\n",
    "create_tag = pd.DataFrame(columns = columns)\n",
    "\n",
    "for child in eroot.findall(\"./create//\"):\n",
    "    print(child.tag)\n",
    "    create_tag = create_tag.append(pd.Series(child.tag , index = columns), ignore_index = True)"
   ]
  },
  {
   "cell_type": "code",
   "execution_count": null,
   "metadata": {},
   "outputs": [],
   "source": [
    "create_tdf = pd.concat([create_tag, create_df], axis=1, join='inner')\n",
    "display(create_tdf)"
   ]
  },
  {
   "cell_type": "code",
   "execution_count": null,
   "metadata": {},
   "outputs": [],
   "source": [
    "create_tdf = create_tdf.replace(['tag', 'nd','member','relation'],[None, None,None,None])\n",
    "cols = ['type','id', 'timestamp']\n",
    "create_tdf.loc[:,cols] = create_tdf.loc[:,cols].ffill()\n",
    "create_tdf['Mod_type'] = 'create'\n",
    "create_tdf"
   ]
  },
  {
   "cell_type": "code",
   "execution_count": null,
   "metadata": {},
   "outputs": [],
   "source": []
  },
  {
   "cell_type": "code",
   "execution_count": null,
   "metadata": {},
   "outputs": [],
   "source": [
    "def transform_xml(xml_doc):\n",
    "    attr = xml_doc.attrib\n",
    "    for xml in xml_doc.findall('./modify//'):\n",
    "        dict = attr.copy()\n",
    "        dict.update(xml.attrib)\n",
    "\n",
    "        yield dict\n",
    "\n",
    "etree = ET.parse('/home/lohitd@nextbillion.ai/Downloads/14June/jabodiff.osc')\n",
    "\n",
    "eroot = etree.getroot()\n",
    "\n",
    "trans = transform_xml(eroot)\n",
    "\n",
    "modify_df = pd.DataFrame(list(trans))\n",
    "\n",
    "modify_df"
   ]
  },
  {
   "cell_type": "code",
   "execution_count": null,
   "metadata": {},
   "outputs": [],
   "source": [
    "modify_df = modify_df.drop(['generator','lat','lon'], axis = 1)"
   ]
  },
  {
   "cell_type": "code",
   "execution_count": null,
   "metadata": {},
   "outputs": [],
   "source": [
    "modify_df"
   ]
  },
  {
   "cell_type": "code",
   "execution_count": null,
   "metadata": {},
   "outputs": [],
   "source": [
    "columns = ['type']\n",
    "modify_tag = pd.DataFrame(columns = columns)\n",
    "\n",
    "for child in eroot.findall(\"./modify//\"):\n",
    "    print(child.tag)\n",
    "    modify_tag = modify_tag.append(pd.Series(child.tag , index = columns), ignore_index = True)"
   ]
  },
  {
   "cell_type": "code",
   "execution_count": null,
   "metadata": {},
   "outputs": [],
   "source": [
    "modify_tdf = pd.concat([modify_tag, modify_df], axis=1, join='inner')\n",
    "modify_tdf"
   ]
  },
  {
   "cell_type": "code",
   "execution_count": null,
   "metadata": {},
   "outputs": [],
   "source": [
    "modify_tdf = modify_tdf.replace(['tag', 'nd','member','relation'],[None, None,None,None])\n",
    "cols = ['type','id', 'timestamp','uid','user','changeset']\n",
    "modify_tdf.loc[:,cols] = modify_tdf.loc[:,cols].ffill()\n",
    "modify_tdf['Mod_type'] = 'modify'\n",
    "modify_tdf"
   ]
  },
  {
   "cell_type": "code",
   "execution_count": null,
   "metadata": {},
   "outputs": [],
   "source": [
    "frames = [delete_tdf, create_tdf, modify_tdf]\n",
    "  \n",
    "result = pd.concat(frames)\n",
    "result"
   ]
  },
  {
   "cell_type": "code",
   "execution_count": null,
   "metadata": {},
   "outputs": [],
   "source": [
    "neworder = ['Mod_type','type','id','version','timestamp','uid','user','changeset','k','v']\n",
    "result=result.reindex(columns=neworder)"
   ]
  },
  {
   "cell_type": "code",
   "execution_count": null,
   "metadata": {},
   "outputs": [],
   "source": [
    "result.to_csv('/home/lohitd@nextbillion.ai/Downloads/14June/jabodiffdf.csv', index = False)"
   ]
  },
  {
   "cell_type": "code",
   "execution_count": null,
   "metadata": {},
   "outputs": [],
   "source": []
  }
 ],
 "metadata": {
  "kernelspec": {
   "display_name": "Python 3",
   "language": "python",
   "name": "python3"
  },
  "language_info": {
   "codemirror_mode": {
    "name": "ipython",
    "version": 3
   },
   "file_extension": ".py",
   "mimetype": "text/x-python",
   "name": "python",
   "nbconvert_exporter": "python",
   "pygments_lexer": "ipython3",
   "version": "3.8.8"
  }
 },
 "nbformat": 4,
 "nbformat_minor": 4
}
